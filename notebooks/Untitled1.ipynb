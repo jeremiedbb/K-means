{
 "cells": [
  {
   "cell_type": "code",
   "execution_count": 5,
   "metadata": {},
   "outputs": [],
   "source": [
    "from time import time\n",
    "from numba import jit, njit, prange, float32\n",
    "import numpy as np\n",
    "from joblib import Memory\n",
    "from sklearn.cluster.k_means_ import _k_init\n",
    "from sklearn.datasets import make_blobs\n",
    "from sklearn.utils import check_random_state"
   ]
  },
  {
   "cell_type": "code",
   "execution_count": 6,
   "metadata": {},
   "outputs": [],
   "source": [
    "m = Memory(location='/tmp/joblib')\n",
    "make_blobs = m.cache(make_blobs)\n",
    "_k_init = m.cache(_k_init)\n",
    "n_clusters = 1000\n",
    "rng = check_random_state(42)\n",
    "kmeanspp_size = int(1e4)\n",
    "\n",
    "data, true_labels = make_blobs(n_samples=int(1e5), centers=100,\n",
    "                               n_features=100, cluster_std=30,\n",
    "                               random_state=rng)\n",
    "data = data.astype(np.float32)\n",
    "data_squared_norms = np.sum(data[:kmeanspp_size] * data[:kmeanspp_size],\n",
    "                            axis=1)\n",
    "centroids = _k_init(data[:kmeanspp_size], n_clusters,\n",
    "                    data_squared_norms, rng)"
   ]
  },
  {
   "cell_type": "code",
   "execution_count": 3,
   "metadata": {},
   "outputs": [],
   "source": [
    "@njit('void(f4[:, ::1], f4[:, ::1], f4[:, ::1], u4[::1])',\n",
    "      locals={'best_dist': float32, 'dist': float32},\n",
    "      fastmath=True,\n",
    "#       parallel=True,\n",
    ")\n",
    "def kmeans_kernel(data, centroids, centroids_sum, centroids_pop):\n",
    "    n_samples, n_features = data.shape\n",
    "    n_centroids = centroids.shape[0]\n",
    "    for i in range(n_samples):\n",
    "        best_dist = 1e7\n",
    "        best_j = 0\n",
    "        for j in range(n_centroids):\n",
    "            dist = 0.\n",
    "            for k in range(n_features):\n",
    "                dist += (data[i, k] - centroids[j, k]) ** 2\n",
    "            if dist < best_dist:\n",
    "                best_dist = dist\n",
    "                best_j = j\n",
    "        for k in range(data.shape[1]):\n",
    "            centroids_sum[best_j, k] += data[i, k]\n",
    "        centroids_pop[best_j] += 1"
   ]
  },
  {
   "cell_type": "code",
   "execution_count": 4,
   "metadata": {},
   "outputs": [],
   "source": [
    "data_chunk = data[:1000]\n",
    "centroids_sum = np.zeros_like(centroids)\n",
    "centroids_pop = np.zeros(centroids.shape[0], dtype=np.uint32)"
   ]
  },
  {
   "cell_type": "code",
   "execution_count": 5,
   "metadata": {},
   "outputs": [
    {
     "name": "stdout",
     "output_type": "stream",
     "text": [
      "11.8 ms ± 22 µs per loop (mean ± std. dev. of 7 runs, 100 loops each)\n"
     ]
    }
   ],
   "source": [
    "%%timeit\n",
    "kmeans_kernel(data_chunk, centroids, centroids_sum, centroids_pop)"
   ]
  },
  {
   "cell_type": "code",
   "execution_count": 1,
   "metadata": {},
   "outputs": [],
   "source": [
    "%load_ext cython"
   ]
  },
  {
   "cell_type": "code",
   "execution_count": 2,
   "metadata": {},
   "outputs": [],
   "source": [
    "import os\n",
    "os.environ[\"CC\"] = 'gcc-8'"
   ]
  },
  {
   "cell_type": "code",
   "execution_count": 7,
   "metadata": {
    "scrolled": false
   },
   "outputs": [],
   "source": [
    "%%cython -c=-Ofast -c=-march=native -f\n",
    "#cython: initializedcheck=False, nonecheck=False, boundscheck=False, wraparound=False, cdivision=True, overflowcheck=False, overflowcheck.fold=False\n",
    "\n",
    "cimport numpy as np\n",
    "cimport cython\n",
    "\n",
    "ctypedef fused floating_t:\n",
    "    np.float32_t\n",
    "    np.float64_t\n",
    "\n",
    "# numpy array\n",
    "cpdef void kmeans_chunk_np(np.ndarray[floating_t, ndim=2, mode='c'] X_chunk,\n",
    "                           np.ndarray[floating_t, ndim=2, mode='c'] C,\n",
    "                           np.ndarray[floating_t, ndim=2, mode='c'] sums,\n",
    "                           np.ndarray[np.int32_t, ndim=1, mode='c'] pops):\n",
    "    cdef:\n",
    "        Py_ssize_t n_samples_chunk = X_chunk.shape[0],\n",
    "        Py_ssize_t n_clusters = C.shape[0],\n",
    "        Py_ssize_t n_features = C.shape[1]\n",
    "        \n",
    "        floating_t x, sq_dist, min_sq_dist = 0.0\n",
    "        Py_ssize_t best_cluster = -1\n",
    "\n",
    "        Py_ssize_t si, ci, fi = 0\n",
    "\n",
    "    for si in xrange(n_samples_chunk):\n",
    "        min_sq_dist = 10000000\n",
    "        best_cluster = -1\n",
    "        for ci in xrange(n_clusters):\n",
    "            sq_dist = 0.0\n",
    "            for fi in xrange(n_features):\n",
    "                x = X_chunk[si, fi] - C[ci, fi]\n",
    "                sq_dist += x * x\n",
    "            if sq_dist < min_sq_dist:\n",
    "                min_sq_dist = sq_dist\n",
    "                best_cluster = ci\n",
    "\n",
    "        pops[best_cluster] += 1 \n",
    "        for fi in xrange(n_features):  \n",
    "            sums[best_cluster, fi] += X_chunk[si, fi]\n",
    "\n",
    "# pointer   \n",
    "cdef void kmeans_chunk_ptr(floating_t *X_chunk,\n",
    "                           floating_t *C,\n",
    "                           floating_t *sums,\n",
    "                           np.int32_t *pops,\n",
    "                           Py_ssize_t n_samples_chunk,\n",
    "                           Py_ssize_t n_clusters,\n",
    "                           Py_ssize_t n_features) nogil:\n",
    "    cdef:\n",
    "        floating_t x, sq_dist, min_sq_dist = 0.0\n",
    "        np.int32_t best_cluster = -1\n",
    "\n",
    "        Py_ssize_t si, ci, fi = 0\n",
    "\n",
    "    for si in xrange(n_samples_chunk):\n",
    "        min_sq_dist = 10000000\n",
    "        best_cluster = -1\n",
    "        for ci in xrange(n_clusters):\n",
    "            sq_dist = 0.0\n",
    "            for fi in xrange(n_features):\n",
    "                x = X_chunk[si * n_features + fi] - C[ci * n_features + fi]\n",
    "                sq_dist += x * x\n",
    "            if sq_dist < min_sq_dist:\n",
    "                min_sq_dist = sq_dist\n",
    "                best_cluster = ci\n",
    "\n",
    "        pops[best_cluster] += 1             \n",
    "        for fi in xrange(n_features):    \n",
    "            sums[best_cluster * n_features + fi] += X_chunk[si * n_features + fi]\n",
    "        \n",
    "\n",
    "cpdef kmeans_chunk_ptrw(floating_t[:, ::1] X_chunk,\n",
    "                        floating_t[:, ::1] C,\n",
    "                        floating_t[:, ::1] sums,\n",
    "                        np.int32_t[::1] pops):\n",
    "    n_samples_chunk = X_chunk.shape[0]\n",
    "    n_features = X_chunk.shape[1]\n",
    "    n_clusters = C.shape[0]\n",
    "    kmeans_chunk_ptr(&X_chunk[0,0], &C[0,0], &sums[0,0], &pops[0], n_samples_chunk, n_clusters, n_features)\n",
    "    \n",
    "    \n",
    "# memoryview          \n",
    "cpdef void kmeans_chunk_mv(floating_t[:, ::1] X_chunk,\n",
    "                           floating_t[:, ::1] C,\n",
    "                           floating_t[:, ::1] sums,\n",
    "                           np.int32_t[::1] pops) nogil:\n",
    "    cdef:\n",
    "        Py_ssize_t n_samples_chunk = X_chunk.shape[0]\n",
    "        Py_ssize_t n_clusters = C.shape[0]\n",
    "        Py_ssize_t n_features = X_chunk.shape[1]\n",
    "\n",
    "        floating_t x, sq_dist, min_sq_dist = 0.0\n",
    "        Py_ssize_t best_cluster = -1\n",
    "\n",
    "        Py_ssize_t si, ci, fi = 0\n",
    "\n",
    "    for si in xrange(n_samples_chunk):\n",
    "        min_sq_dist = 10000000\n",
    "        best_cluster = -1\n",
    "        for ci in xrange(n_clusters):\n",
    "            sq_dist = 0.0\n",
    "            for fi in xrange(n_features):\n",
    "                x = X_chunk[si, fi] - C[ci, fi]\n",
    "                sq_dist += x * x\n",
    "            if sq_dist < min_sq_dist:\n",
    "                min_sq_dist = sq_dist\n",
    "                best_cluster = ci\n",
    "                \n",
    "        pops[best_cluster] += 1          \n",
    "        for fi in xrange(n_features):      \n",
    "            sums[best_cluster, fi] += X_chunk[si, fi]"
   ]
  },
  {
   "cell_type": "code",
   "execution_count": 8,
   "metadata": {},
   "outputs": [
    {
     "name": "stdout",
     "output_type": "stream",
     "text": [
      "15.2 ms ± 189 µs per loop (mean ± std. dev. of 7 runs, 100 loops each)\n"
     ]
    }
   ],
   "source": [
    "%%timeit\n",
    "data_chunk = data[:1000]\n",
    "centroids_sum = np.zeros_like(centroids)\n",
    "centroids_pop = np.zeros(centroids.shape[0], dtype=np.int32)\n",
    "kmeans_chunk_np(data_chunk,\n",
    "                centroids,\n",
    "                centroids_sum,\n",
    "                centroids_pop)"
   ]
  },
  {
   "cell_type": "code",
   "execution_count": 36,
   "metadata": {},
   "outputs": [
    {
     "name": "stdout",
     "output_type": "stream",
     "text": [
      "168 µs ± 3.43 µs per loop (mean ± std. dev. of 7 runs, 1000 loops each)\n"
     ]
    }
   ],
   "source": [
    "%%timeit\n",
    "data_chunk = data[:10]\n",
    "centroids_sum = np.zeros_like(centroids)\n",
    "centroids_pop = np.zeros(centroids.shape[0], dtype=np.int32)\n",
    "kmeans_chunk_ptrw(data_chunk,\n",
    "                  centroids,\n",
    "                  centroids_sum,\n",
    "                  centroids_pop)"
   ]
  },
  {
   "cell_type": "code",
   "execution_count": 37,
   "metadata": {},
   "outputs": [
    {
     "name": "stdout",
     "output_type": "stream",
     "text": [
      "172 µs ± 837 ns per loop (mean ± std. dev. of 7 runs, 10000 loops each)\n"
     ]
    }
   ],
   "source": [
    "%%timeit\n",
    "data_chunk = data[:10]\n",
    "centroids_sum = np.zeros_like(centroids)\n",
    "centroids_pop = np.zeros(centroids.shape[0], dtype=np.int32)\n",
    "kmeans_chunk_mv(data_chunk,\n",
    "                centroids,\n",
    "                centroids_sum,\n",
    "                centroids_pop)"
   ]
  }
 ],
 "metadata": {
  "kernelspec": {
   "display_name": "Python 3",
   "language": "python",
   "name": "python3"
  },
  "language_info": {
   "codemirror_mode": {
    "name": "ipython",
    "version": 3
   },
   "file_extension": ".py",
   "mimetype": "text/x-python",
   "name": "python",
   "nbconvert_exporter": "python",
   "pygments_lexer": "ipython3",
   "version": "3.6.6"
  }
 },
 "nbformat": 4,
 "nbformat_minor": 2
}
