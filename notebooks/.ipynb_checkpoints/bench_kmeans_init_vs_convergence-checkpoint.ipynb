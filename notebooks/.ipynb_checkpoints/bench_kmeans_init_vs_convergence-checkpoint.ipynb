{
 "cells": [
  {
   "cell_type": "code",
   "execution_count": 2,
   "metadata": {},
   "outputs": [],
   "source": [
    "import numpy as np\n",
    "import pandas as pd\n",
    "import matplotlib.pyplot as plt"
   ]
  },
  {
   "cell_type": "code",
   "execution_count": 26,
   "metadata": {
    "scrolled": false
   },
   "outputs": [],
   "source": [
    "unif = pd.read_csv('../bench/bench_sklearn_vs_intel_rand_points.csv')\n",
    "init = unif[unif['step']=='init'][['n_sample', 'n_feature', 'n_component', 'time']]\n",
    "\n",
    "# pre init + full\n",
    "skl_pf = unif[(unif['distrib']=='sklearn') & (unif['pre-init']=='y') & (unif['algo']=='full')]\n",
    "skl_pf = skl_pf[['n_sample', 'n_feature', 'n_component', 'time']]\n",
    "# no pre init + full\n",
    "skl_nf = unif[(unif['distrib']=='sklearn') & (unif['pre-init']=='n') & (unif['algo']=='full')]\n",
    "skl_nf = skl_nf[['n_sample', 'n_feature', 'n_component', 'time']]\n",
    "\n",
    "# pre init + elkan\n",
    "skl_pe = unif[(unif['distrib']=='sklearn') & (unif['pre-init']=='y') & (unif['algo']=='elkan')]\n",
    "skl_pe = skl_pe[['n_sample', 'n_feature', 'n_component', 'time']]\n",
    "# pre init + elkan\n",
    "skl_ne = unif[(unif['distrib']=='sklearn') & (unif['pre-init']=='y') & (unif['algo']=='elkan')]\n",
    "skl_ne = skl_ne[['n_sample', 'n_feature', 'n_component', 'time']]"
   ]
  },
  {
   "cell_type": "code",
   "execution_count": null,
   "metadata": {},
   "outputs": [],
   "source": []
  }
 ],
 "metadata": {
  "kernelspec": {
   "display_name": "Python 3",
   "language": "python",
   "name": "python3"
  },
  "language_info": {
   "codemirror_mode": {
    "name": "ipython",
    "version": 3
   },
   "file_extension": ".py",
   "mimetype": "text/x-python",
   "name": "python",
   "nbconvert_exporter": "python",
   "pygments_lexer": "ipython3",
   "version": "3.6.6"
  }
 },
 "nbformat": 4,
 "nbformat_minor": 2
}
