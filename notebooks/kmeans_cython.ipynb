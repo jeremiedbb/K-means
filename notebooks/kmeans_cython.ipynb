{
 "cells": [
  {
   "cell_type": "code",
   "execution_count": 1,
   "metadata": {},
   "outputs": [],
   "source": [
    "import numpy as np"
   ]
  },
  {
   "cell_type": "code",
   "execution_count": 2,
   "metadata": {},
   "outputs": [],
   "source": [
    "%load_ext cython\n",
    "import os\n",
    "os.environ[\"CC\"] = 'gcc-8'"
   ]
  },
  {
   "cell_type": "code",
   "execution_count": 89,
   "metadata": {},
   "outputs": [],
   "source": [
    "%%cython -c=-Ofast -c=-march=native -f\n",
    "#cython: initializedcheck=False, nonecheck=False, boundscheck=False, wraparound=False, cdivision=True, overflowcheck=False, overflowcheck.fold=False\n",
    "import numpy as np\n",
    "cimport numpy as np\n",
    "cimport cython\n",
    "from scipy.linalg.cython_blas cimport sgemm\n",
    "from cpython cimport array\n",
    "import array\n",
    "from cython cimport view\n",
    "\n",
    "ctypedef fused floating_t:\n",
    "    np.float32_t\n",
    "    np.float64_t\n",
    "\n",
    "# numpy array\n",
    "cpdef void kmeans_chunk_np(np.ndarray[floating_t, ndim=2, mode='c'] X_chunk,\n",
    "                           np.ndarray[floating_t, ndim=2, mode='c'] C,\n",
    "                           np.ndarray[floating_t, ndim=2, mode='c'] sums,\n",
    "                           np.ndarray[np.int32_t, ndim=1, mode='c'] pops):\n",
    "    cdef:\n",
    "        Py_ssize_t n_samples_chunk = X_chunk.shape[0],\n",
    "        Py_ssize_t n_clusters = C.shape[0],\n",
    "        Py_ssize_t n_features = C.shape[1]\n",
    "        \n",
    "        floating_t x, sq_dist, min_sq_dist = 0.0\n",
    "        Py_ssize_t best_cluster = -1\n",
    "\n",
    "        Py_ssize_t si, ci, fi = 0\n",
    "\n",
    "    for si in xrange(n_samples_chunk):\n",
    "        min_sq_dist = 10000000\n",
    "        best_cluster = -1\n",
    "        for ci in xrange(n_clusters):\n",
    "            sq_dist = 0.0\n",
    "            for fi in xrange(n_features):\n",
    "                x = X_chunk[si, fi] - C[ci, fi]\n",
    "                sq_dist += x * x\n",
    "            if sq_dist < min_sq_dist:\n",
    "                min_sq_dist = sq_dist\n",
    "                best_cluster = ci\n",
    "\n",
    "        pops[best_cluster] += 1 \n",
    "        for fi in xrange(n_features):  \n",
    "            sums[best_cluster, fi] += X_chunk[si, fi]\n",
    "\n",
    "# pointer   \n",
    "cdef void kmeans_chunk_ptr(floating_t *X_chunk,\n",
    "                           floating_t *C,\n",
    "                           floating_t *sums,\n",
    "                           np.int32_t *pops,\n",
    "                           Py_ssize_t n_samples_chunk,\n",
    "                           Py_ssize_t n_clusters,\n",
    "                           Py_ssize_t n_features) nogil:\n",
    "    cdef:\n",
    "        floating_t x, sq_dist, min_sq_dist = 0.0\n",
    "        np.int32_t best_cluster = -1\n",
    "\n",
    "        Py_ssize_t si, ci, fi = 0\n",
    "\n",
    "    for si in xrange(n_samples_chunk):\n",
    "        min_sq_dist = 10000000\n",
    "        best_cluster = -1\n",
    "        for ci in xrange(n_clusters):\n",
    "            sq_dist = 0.0\n",
    "            for fi in xrange(n_features):\n",
    "                x = X_chunk[si * n_features + fi] - C[ci * n_features + fi]\n",
    "                sq_dist += x * x\n",
    "            if sq_dist < min_sq_dist:\n",
    "                min_sq_dist = sq_dist\n",
    "                best_cluster = ci\n",
    "\n",
    "        pops[best_cluster] += 1             \n",
    "        for fi in xrange(n_features):    \n",
    "            sums[best_cluster * n_features + fi] += X_chunk[si * n_features + fi]\n",
    "        \n",
    "\n",
    "cpdef kmeans_chunk_ptrw(floating_t[:, ::1] X_chunk,\n",
    "                        floating_t[:, ::1] C,\n",
    "                        floating_t[:, ::1] sums,\n",
    "                        np.int32_t[::1] pops):\n",
    "    cdef:\n",
    "        Py_ssize_t n_samples_chunk = X_chunk.shape[0]\n",
    "        Py_ssize_t n_features = X_chunk.shape[1]\n",
    "        Py_ssize_t n_clusters = C.shape[0]\n",
    "        \n",
    "    kmeans_chunk_ptr(&X_chunk[0,0], &C[0,0], &sums[0,0], &pops[0], n_samples_chunk, n_clusters, n_features)\n",
    "    \n",
    "    \n",
    "# memoryview          \n",
    "cpdef void kmeans_chunk_mv(floating_t[:, ::1] X_chunk,\n",
    "                           floating_t[:, ::1] C,\n",
    "                           floating_t[:, ::1] sums,\n",
    "                           np.int32_t[::1] pops) nogil:\n",
    "    cdef:\n",
    "        Py_ssize_t n_samples_chunk = X_chunk.shape[0]\n",
    "        Py_ssize_t n_clusters = C.shape[0]\n",
    "        #Py_ssize_t n_features = X_chunk.shape[1]\n",
    "        Py_ssize_t n_features = 2\n",
    "\n",
    "        floating_t x, sq_dist, min_sq_dist = 0.0\n",
    "        Py_ssize_t best_cluster = -1\n",
    "\n",
    "        Py_ssize_t si, ci, fi = 0\n",
    "\n",
    "    for si in xrange(n_samples_chunk):\n",
    "        min_sq_dist = 10000000\n",
    "        best_cluster = -1\n",
    "        for ci in xrange(n_clusters):\n",
    "            sq_dist = 0.0\n",
    "            for fi in xrange(n_features):\n",
    "                x = X_chunk[si, fi] - C[ci, fi]\n",
    "                sq_dist += x * x\n",
    "            if sq_dist < min_sq_dist:\n",
    "                min_sq_dist = sq_dist\n",
    "                best_cluster = ci\n",
    "                \n",
    "        pops[best_cluster] += 1          \n",
    "        for fi in xrange(n_features):      \n",
    "            sums[best_cluster, fi] += X_chunk[si, fi]\n",
    "            \n",
    "\n",
    "# memoryview 2    \n",
    "cpdef void kmeans_chunk_gemm(np.float32_t[:, ::1] X_chunk,\n",
    "                             np.float32_t[:, ::1] C,\n",
    "                             np.float32_t[::1] C_snorms,\n",
    "                             np.float32_t[:, ::1] sums,\n",
    "                             np.int32_t[::1] pops):\n",
    "    cdef:\n",
    "        int n_samples_chunk = X_chunk.shape[0]\n",
    "        int n_clusters = C.shape[0]\n",
    "        int n_features = X_chunk.shape[1]\n",
    "        \n",
    "        np.float32_t x, sq_dist, max_sq_dist = 0.0\n",
    "        int best_cluster = -1\n",
    "\n",
    "        int si, ci, fi, fc= 0\n",
    "        \n",
    "        np.float32_t[:, ::1] dots = view.array(shape=(n_samples_chunk, n_clusters), itemsize=sizeof(np.float32_t), format=\"f\")\n",
    "        \n",
    "        np.float32_t alpha = 1.0\n",
    "        np.float32_t beta = 0.0\n",
    "        char *transa = 'n'\n",
    "        char *transb = 't'\n",
    "        np.float32_t *a0=&X_chunk[0,0]\n",
    "        np.float32_t *b0=&C[0,0]\n",
    "        np.float32_t *c0=&dots[0,0]\n",
    "        \n",
    "    sgemm(transb, transa, &n_clusters, &n_samples_chunk, &n_features, &alpha, b0, &n_features, a0, &n_features, &beta, c0, &n_clusters)\n",
    "\n",
    "    for si in xrange(n_samples_chunk):\n",
    "        max_sq_dist = -10000000.0\n",
    "        best_cluster = -1\n",
    "        for ci in xrange(n_clusters):\n",
    "            sq_dist = C_snorms[ci] + dots[si, ci]\n",
    "            if sq_dist > max_sq_dist:\n",
    "                max_sq_dist = sq_dist\n",
    "                best_cluster = ci\n",
    "                \n",
    "        pops[best_cluster] += 1          \n",
    "        for fi in xrange(n_features):      \n",
    "            sums[best_cluster, fi] += X_chunk[si, fi]\n",
    "    "
   ]
  },
  {
   "cell_type": "code",
   "execution_count": 86,
   "metadata": {},
   "outputs": [],
   "source": [
    "n_samples = 100000\n",
    "n_clusters = 1000\n",
    "n_features = 10\n",
    "n_samples_chunk = 1000\n",
    "\n",
    "data = np.random.random_sample((n_samples, n_features)).astype(np.float32)\n",
    "centroids = data[np.random.choice(np.arange(data.shape[0]), n_clusters, replace=False)]\n",
    "centroids_snorms = (centroids**2).sum(axis=1) * -0.5\n",
    "data_chunk = data[:n_samples_chunk]"
   ]
  },
  {
   "cell_type": "code",
   "execution_count": 65,
   "metadata": {},
   "outputs": [
    {
     "name": "stdout",
     "output_type": "stream",
     "text": [
      "4.54 ms ± 524 µs per loop (mean ± std. dev. of 7 runs, 100 loops each)\n"
     ]
    }
   ],
   "source": [
    "%%timeit -n 100\n",
    "centroids_sum = np.zeros((n_clusters, n_features), dtype=np.float32)\n",
    "centroids_pop = np.zeros(n_clusters, dtype=np.int32)\n",
    "\n",
    "kmeans_chunk_np(data_chunk, centroids, centroids_sum, centroids_pop)\n",
    "# numpy"
   ]
  },
  {
   "cell_type": "code",
   "execution_count": 58,
   "metadata": {},
   "outputs": [
    {
     "name": "stdout",
     "output_type": "stream",
     "text": [
      "4.15 ms ± 353 µs per loop (mean ± std. dev. of 7 runs, 100 loops each)\n"
     ]
    }
   ],
   "source": [
    "%%timeit -n 100\n",
    "centroids_sum = np.zeros((n_clusters, n_features), dtype=np.float32)\n",
    "centroids_pop = np.zeros(n_clusters, dtype=np.int32)\n",
    "\n",
    "kmeans_chunk_ptrw(data_chunk, centroids, centroids_sum, centroids_pop)\n",
    "# pointer"
   ]
  },
  {
   "cell_type": "code",
   "execution_count": 77,
   "metadata": {},
   "outputs": [
    {
     "name": "stdout",
     "output_type": "stream",
     "text": [
      "1.26 ms ± 53.2 µs per loop (mean ± std. dev. of 7 runs, 100 loops each)\n"
     ]
    }
   ],
   "source": [
    "%%timeit -n 100\n",
    "centroids_sum = np.zeros((n_clusters, n_features), dtype=np.float32)\n",
    "centroids_pop = np.zeros(n_clusters, dtype=np.int32)\n",
    "\n",
    "kmeans_chunk_mv(data_chunk, centroids, centroids_sum, centroids_pop)\n",
    "# memoryview"
   ]
  },
  {
   "cell_type": "code",
   "execution_count": 87,
   "metadata": {},
   "outputs": [
    {
     "name": "stdout",
     "output_type": "stream",
     "text": [
      "1.52 ms ± 108 µs per loop (mean ± std. dev. of 7 runs, 100 loops each)\n"
     ]
    }
   ],
   "source": [
    "%%timeit -n 100\n",
    "centroids_sum = np.zeros((n_clusters, n_features), dtype=np.float32)\n",
    "centroids_pop = np.zeros(n_clusters, dtype=np.int32)\n",
    "\n",
    "kmeans_chunk_gemm(data_chunk, centroids, centroids_snorms, centroids_sum, centroids_pop)\n",
    "# mem view + gemm"
   ]
  },
  {
   "cell_type": "code",
   "execution_count": 44,
   "metadata": {},
   "outputs": [],
   "source": [
    "data = data.astype(np.float64)\n",
    "centroids = centroids.astype(np.float64)\n",
    "centroids_snorms = (centroids**2).sum(axis=1) * -0.5\n",
    "data_chunk = data[:n_samples_chunk]\n",
    "\n",
    "centroids_sum = np.zeros((n_clusters, n_features), dtype=np.float64)\n",
    "centroids_pop = np.zeros(n_clusters, dtype=np.int32)"
   ]
  },
  {
   "cell_type": "code",
   "execution_count": 45,
   "metadata": {},
   "outputs": [
    {
     "name": "stdout",
     "output_type": "stream",
     "text": [
      "24.3 ms ± 474 µs per loop (mean ± std. dev. of 7 runs, 100 loops each)\n"
     ]
    }
   ],
   "source": [
    "%%timeit -n 100\n",
    "kmeans_chunk_np(data_chunk, centroids, centroids_sum, centroids_pop)\n",
    "# numpy + float64"
   ]
  },
  {
   "cell_type": "code",
   "execution_count": 48,
   "metadata": {},
   "outputs": [
    {
     "name": "stdout",
     "output_type": "stream",
     "text": [
      "24.3 ms ± 569 µs per loop (mean ± std. dev. of 7 runs, 100 loops each)\n"
     ]
    }
   ],
   "source": [
    "%%timeit -n 100\n",
    "kmeans_chunk_ptrw(data_chunk, centroids, centroids_sum, centroids_pop)\n",
    "# pointer + float64"
   ]
  },
  {
   "cell_type": "code",
   "execution_count": 36,
   "metadata": {},
   "outputs": [
    {
     "name": "stdout",
     "output_type": "stream",
     "text": [
      "4.25 ms ± 74.8 µs per loop (mean ± std. dev. of 7 runs, 100 loops each)\n"
     ]
    }
   ],
   "source": [
    "%%timeit -n 100\n",
    "kmeans_chunk_mv(data_chunk, centroids, centroids_sum, centroids_pop)\n",
    "# mem view + float64"
   ]
  },
  {
   "cell_type": "code",
   "execution_count": 46,
   "metadata": {},
   "outputs": [],
   "source": [
    "def kmeans_chunk_py(X_chunk, C, sums, pops):\n",
    "    n_samples_chunk = X_chunk.shape[0]\n",
    "    n_clusters = C.shape[0]\n",
    "    n_features = X_chunk.shape[1]\n",
    "\n",
    "    C_snorms = (C**2).sum(axis=1)\n",
    "    X_chunk_snorms = (X_chunk**2).sum(axis=1)\n",
    "    \n",
    "    D = np.empty((n_samples_chunk, n_clusters), dtype=C.dtype)\n",
    "    \n",
    "    np.dot(X_chunk, C.T, out=D)\n",
    "    D *= -2\n",
    "    D += C_snorms + X_chunk_snorms\n",
    "    \n",
    "    best_c = np.argmin(D, axis=1)\n",
    "    \n",
    "    pops = np.bincount(best_c)\n",
    "    \n",
    "    for s in range(n_samples_chunk):\n",
    "        sums[best_c[s]] += X_chunk[s]"
   ]
  },
  {
   "cell_type": "code",
   "execution_count": 79,
   "metadata": {},
   "outputs": [
    {
     "name": "stdout",
     "output_type": "stream",
     "text": [
      "6.32 ms ± 113 µs per loop (mean ± std. dev. of 7 runs, 100 loops each)\n"
     ]
    }
   ],
   "source": [
    "%%timeit -n 100\n",
    "kmeans_chunk_py(data_chunk, centroids, centroids_sum, centroids_pop)\n",
    "# python + float64"
   ]
  }
 ],
 "metadata": {
  "kernelspec": {
   "display_name": "Python 3",
   "language": "python",
   "name": "python3"
  },
  "language_info": {
   "codemirror_mode": {
    "name": "ipython",
    "version": 3
   },
   "file_extension": ".py",
   "mimetype": "text/x-python",
   "name": "python",
   "nbconvert_exporter": "python",
   "pygments_lexer": "ipython3",
   "version": "3.6.6"
  }
 },
 "nbformat": 4,
 "nbformat_minor": 2
}
