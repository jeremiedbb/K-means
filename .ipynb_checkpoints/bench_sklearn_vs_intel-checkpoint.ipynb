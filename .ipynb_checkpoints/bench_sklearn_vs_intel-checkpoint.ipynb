{
 "cells": [
  {
   "cell_type": "code",
   "execution_count": 1,
   "metadata": {},
   "outputs": [],
   "source": [
    "import numpy as np\n",
    "import pandas as pd\n",
    "import matplotlib.pyplot as plt"
   ]
  },
  {
   "cell_type": "code",
   "execution_count": 53,
   "metadata": {},
   "outputs": [],
   "source": [
    "init_vs_loops = pd.read_csv('bench_sklearn_vs_intel_pre_init_kmpp_no_tol.csv')\n",
    "init_vs_loops\n",
    "inits = init_vs_loops[init_vs_loops['step']=='init'][['n_sample','n_feature','n_component','time']]\n",
    "sklearn = init_vs_loops[(init_vs_loops['step']=='fit')&(init_vs_loops['distrib']=='sklearn')][['n_sample','n_feature','n_component','time']]\n",
    "intel = init_vs_loops[(init_vs_loops['step']=='fit')&(init_vs_loops['distrib']=='sklearn')][['n_sample','n_feature','n_component','time']]"
   ]
  },
  {
   "cell_type": "code",
   "execution_count": 54,
   "metadata": {},
   "outputs": [],
   "source": [
    "fig, ax = plt.subplots(3, 3)\n",
    "width = 0.25\n",
    "ind = np.array([1,2]) - 1.5 * width"
   ]
  },
  {
   "cell_type": "code",
   "execution_count": 55,
   "metadata": {},
   "outputs": [
    {
     "data": {
      "image/png": "[encoded data removed]",
      "text/plain": [
       "<Figure size 432x288 with 9 Axes>"
      ]
     },
     "metadata": {},
     "output_type": "display_data"
    }
   ],
   "source": [
    "dinit = np.empty((3,3), dtype=object)\n",
    "dsk = np.empty((3,3), dtype=object)\n",
    "dintel = np.empty((3,3), dtype=object)\n",
    "indinit = np.empty((3,3), dtype=object)\n",
    "indsk = np.empty((3,3), dtype=object)\n",
    "indintel = np.empty((3,3), dtype=object)\n",
    "\n",
    "for i, ns in enumerate([10000, 100000, 500000]):\n",
    "    for j, nc in enumerate([10, 1000, 5000]):\n",
    "        dinit[i,j] = np.array(inits.loc[(inits['n_sample']==ns) & (inits['n_component']==nc)]['time'])\n",
    "        dsk[i,j] = np.array(sklearn.loc[(sklearn['n_sample']==ns) & (sklearn['n_component']==nc)]['time'])\n",
    "        dintel[i,j] = np.array(intel.loc[(intel['n_sample']==ns) & (intel['n_component']==nc)]['time'])\n",
    "        \n",
    "        ax[i,j].bar(ind, dinit[i,j], width)\n",
    "        ax[i,j].bar(ind + width, dsk[i,j], width)\n",
    "        ax[i,j].bar(ind + 2*width, dintel[i,j], width)\n",
    "        \n",
    "        ax[i,j].set_xticklabels(('3', '50'))\n",
    "        \n",
    "#fig.tight_layout()\n",
    "plt.show()\n"
   ]
  }
 ],
 "metadata": {
  "kernelspec": {
   "display_name": "Python 3",
   "language": "python",
   "name": "python3"
  },
  "language_info": {
   "codemirror_mode": {
    "name": "ipython",
    "version": 3
   },
   "file_extension": ".py",
   "mimetype": "text/x-python",
   "name": "python",
   "nbconvert_exporter": "python",
   "pygments_lexer": "ipython3",
   "version": "3.6.3"
  }
 },
 "nbformat": 4,
 "nbformat_minor": 2
}
